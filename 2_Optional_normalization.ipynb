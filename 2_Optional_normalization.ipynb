{
 "cells": [
  {
   "cell_type": "markdown",
   "metadata": {},
   "source": [
    "### The **normalization step** of the proposed SLR design aims to normalize the authors and affiliations that are variables of the SLR_database based on a set of “Label”-“Replace by” rules. \n",
    "This step has not been specified as it can be conducted in several ways, including Python, or the VOSviewer software. The technical steps include:\n",
    "1.\tRead thesaurus files that contain the Label-Replace by rules as a dictionary. The Label-Replace by rules consists of a set of pairs in which a \"Label\" is associated with a \"Replace by\" value.\n",
    "2.\tLoop through the list of affiliations and authors and for each item, check if any Label exists in it.\n",
    "3.\tIf a Label is found in an author or affiliation, replace it with its corresponding Replace by value using the dictionary created in step 1.\n",
    "4.\tAdd the normalized author and affiliation to a new list.\n",
    "5.\tAfter processing all the authors and affiliations in the SLR_database, overwrite the original authors and affiliations with the normalized ones.\n",
    "6.\tReturn the updated SLR_database.\n"
   ]
  },
  {
   "cell_type": "markdown",
   "metadata": {},
   "source": [
    "This script can help standardize and clean data in the SLR_database, making it easier to analyze and compare results across studies. Please find the **thesaurus_affiliation.txt** and **thesaurus_author.txt** files are illustrative examples of the normalization need. \n",
    "However, if such thesaurus files do not exist or are hard to obtain, certain Python libraries offer options for the automation of the step of the SLR design."
   ]
  },
  {
   "cell_type": "markdown",
   "metadata": {},
   "source": [
    "**Normalization of institution names**\n",
    "- pycountry: This library provides an interface to access data from the ISO-3166 country codes standard, which includes the names of many countries and territories. You could use this library to identify the country associated with an institution, which might help you to simplify the institution name.\n",
    "- Geotext: This library uses a combination of rule-based heuristics and machine learning to identify locations within text. It can extract cities, regions, and countries from text, which could help to identify the location of an institution and simplify the name.\n",
    "- spaCy: This is a natural language processing library that includes a wide range of tools for working with text. It can be used to identify entities within text, including institutions, and to normalize them to a simpler form.\n",
    "- Fuzzywuzzy: This library provides tools for fuzzy string matching, which can be useful for identifying variations of institution names and matching them to a standard form."
   ]
  },
  {
   "cell_type": "markdown",
   "metadata": {},
   "source": [
    "**Normalization of author names**\n",
    "- nameparser: This library can be used to parse individual names and extract their components (e.g., first name, last name, middle name) for further processing. It can also be used to normalize the capitalization of names.\n",
    "- pynameparser: This is another library for parsing and normalizing individual names. It includes functionality for detecting and handling suffixes and titles (e.g., \"Dr.\", \"Jr.\", \"III\").\n",
    "- NLTK: The Natural Language Toolkit includes tools for tokenizing and processing text, which can be useful for identifying the individual components of a name (e.g., first name, last name). However, it may require additional customization to handle academic author names specifically.\n",
    "- regex: If you have a specific set of rules for how you want to normalize author names (e.g., always capitalize the first letter of each name, ignore middle initials), you could use the re module and regular expressions to match and modify the text accordingly.\n"
   ]
  }
 ],
 "metadata": {
  "kernelspec": {
   "display_name": "Python 3",
   "language": "python",
   "name": "python3"
  },
  "language_info": {
   "codemirror_mode": {
    "name": "ipython",
    "version": 3
   },
   "file_extension": ".py",
   "mimetype": "text/x-python",
   "name": "python",
   "nbconvert_exporter": "python",
   "pygments_lexer": "ipython3",
   "version": "3.8.5"
  }
 },
 "nbformat": 4,
 "nbformat_minor": 4
}
